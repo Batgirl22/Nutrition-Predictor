{
 "cells": [
  {
   "cell_type": "markdown",
   "metadata": {},
   "source": [
    "## Hyperparameter Optimization XGBoost Regression"
   ]
  },
  {
   "cell_type": "code",
   "execution_count": 1,
   "metadata": {},
   "outputs": [],
   "source": [
    "import numpy as np \n",
    "import pandas as pd \n",
    "from sklearn import metrics"
   ]
  },
  {
   "cell_type": "code",
   "execution_count": 2,
   "metadata": {},
   "outputs": [],
   "source": [
    "# warning\n",
    "import warnings\n",
    "warnings.filterwarnings('ignore')"
   ]
  },
  {
   "cell_type": "code",
   "execution_count": 3,
   "metadata": {},
   "outputs": [],
   "source": [
    "# Pipeline\n",
    "from sklearn.decomposition import PCA\n",
    "from sklearn.pipeline import Pipeline"
   ]
  },
  {
   "cell_type": "code",
   "execution_count": 4,
   "metadata": {},
   "outputs": [],
   "source": [
    "# Scaling\n",
    "from sklearn.preprocessing import StandardScaler\n",
    "from sklearn.preprocessing import MinMaxScaler\n",
    "#Cross Validation\n",
    "from sklearn.model_selection import train_test_split\n",
    "from sklearn.model_selection import cross_val_score\n",
    "from sklearn.model_selection import StratifiedKFold\n",
    "from sklearn.model_selection import KFold \n",
    "# Searching\n",
    "from sklearn.model_selection import RandomizedSearchCV\n",
    "from sklearn.model_selection import GridSearchCV"
   ]
  },
  {
   "cell_type": "code",
   "execution_count": 5,
   "metadata": {},
   "outputs": [],
   "source": [
    " # Algorithms\n",
    "from sklearn.ensemble import GradientBoostingRegressor\n",
    "from sklearn.ensemble import AdaBoostRegressor\n",
    "from sklearn.ensemble import BaggingRegressor\n",
    "from sklearn.ensemble import VotingRegressor\n",
    "from xgboost import XGBRegressor\n",
    "from sklearn.tree import DecisionTreeRegressor\n",
    "from sklearn.ensemble import RandomForestRegressor\n",
    "from sklearn.neural_network import MLPRegressor\n",
    "from sklearn.linear_model import LinearRegression\n",
    "from sklearn.svm import SVR\n",
    "from sklearn.gaussian_process import GaussianProcessRegressor\n",
    "from sklearn.linear_model import LogisticRegression"
   ]
  },
  {
   "cell_type": "code",
   "execution_count": 6,
   "metadata": {},
   "outputs": [],
   "source": [
    "# Visualization\n",
    "import sklearn\n",
    "import numpy as np\n",
    "import pandas as pd\n",
    "import plotly as plot\n",
    "import plotly.express as px\n",
    "import plotly.graph_objs as go\n",
    "import matplotlib.pyplot as plt\n",
    "import seaborn as sns\n",
    "import os\n",
    "from sklearn.metrics import accuracy_score,mean_squared_error\n",
    "import plotly.offline as pyo\n",
    "from plotly.offline import init_notebook_mode,plot,iplot"
   ]
  },
  {
   "cell_type": "code",
   "execution_count": 7,
   "metadata": {},
   "outputs": [],
   "source": [
    "data = pd.read_csv(\"New_Dataset_Gender_Height_Weight_Age_Calories.csv\")"
   ]
  },
  {
   "cell_type": "code",
   "execution_count": 8,
   "metadata": {},
   "outputs": [],
   "source": [
    "x = data.iloc[:,:4]\n",
    "y = data.iloc[:,4]"
   ]
  },
  {
   "cell_type": "code",
   "execution_count": 9,
   "metadata": {},
   "outputs": [],
   "source": [
    "# Feature scalling\n",
    "# Feature scalling\n",
    "scaler=MinMaxScaler()\n",
    "x=scaler.fit_transform(x)"
   ]
  },
  {
   "cell_type": "code",
   "execution_count": 10,
   "metadata": {},
   "outputs": [],
   "source": [
    "x_train,x_test,y_train,y_test=train_test_split(x, y,test_size=0.25,random_state=0,shuffle=True)"
   ]
  },
  {
   "cell_type": "code",
   "execution_count": 11,
   "metadata": {},
   "outputs": [],
   "source": [
    "# Decision Tree Classifier\n",
    "scores_dict = {}"
   ]
  },
  {
   "cell_type": "markdown",
   "metadata": {},
   "source": [
    "## Base Model"
   ]
  },
  {
   "cell_type": "code",
   "execution_count": 12,
   "metadata": {},
   "outputs": [
    {
     "name": "stdout",
     "output_type": "stream",
     "text": [
      "[0.32095131 0.43117001 0.46288598 0.67839531 0.81383806]\n",
      "0.5414481339778263\n"
     ]
    }
   ],
   "source": [
    "Base_models = XGBRegressor()\n",
    "mod=\"XGBRegressor\"\n",
    "s_base = cross_val_score(Base_models,x,y, cv=5);\n",
    "results_base=np.average(s_base) ;\n",
    "print(s_base)\n",
    "print(results_base)"
   ]
  },
  {
   "cell_type": "code",
   "execution_count": 13,
   "metadata": {},
   "outputs": [
    {
     "data": {
      "text/plain": [
       "0.5414481339778263"
      ]
     },
     "execution_count": 13,
     "metadata": {},
     "output_type": "execute_result"
    }
   ],
   "source": [
    "scores_dict['Base Model'] = results_base\n",
    "results_base"
   ]
  },
  {
   "cell_type": "markdown",
   "metadata": {},
   "source": [
    "## RandomizedSearchCV"
   ]
  },
  {
   "cell_type": "code",
   "execution_count": 14,
   "metadata": {},
   "outputs": [],
   "source": [
    "from sklearn.model_selection import RandomizedSearchCV"
   ]
  },
  {
   "cell_type": "code",
   "execution_count": 15,
   "metadata": {},
   "outputs": [],
   "source": [
    "rs_Param={\n",
    "    'alpha': [1,30,], \n",
    "    'booster': ['gbtree', 'gblinear'],\n",
    "    'n_estimators' : [10,100,200]\n",
    "\n",
    "   \n",
    "}"
   ]
  },
  {
   "cell_type": "code",
   "execution_count": 16,
   "metadata": {},
   "outputs": [
    {
     "name": "stdout",
     "output_type": "stream",
     "text": [
      "{'n_estimators': 10, 'booster': 'gbtree', 'alpha': 30}  Score :  0.6446866407401899\n",
      "XGBRegressor(alpha=30, base_score=0.5, booster='gbtree', colsample_bylevel=1,\n",
      "             colsample_bynode=1, colsample_bytree=1, gamma=0, gpu_id=-1,\n",
      "             importance_type='gain', interaction_constraints='',\n",
      "             learning_rate=0.300000012, max_delta_step=0, max_depth=6,\n",
      "             min_child_weight=1, missing=nan, monotone_constraints='()',\n",
      "             n_estimators=10, n_jobs=4, num_parallel_tree=1, random_state=0,\n",
      "             reg_alpha=30, reg_lambda=1, scale_pos_weight=1, subsample=1,\n",
      "             tree_method='exact', validate_parameters=1, verbosity=None)\n"
     ]
    }
   ],
   "source": [
    "rs = RandomizedSearchCV(Base_models,rs_Param,cv=5,return_train_score=False,n_iter=10)  \n",
    "rs.fit(x,y)\n",
    "pa_r=rs.best_params_\n",
    "sc_r=rs.best_score_\n",
    "es_r=rs.best_estimator_\n",
    "print(pa_r,\" Score : \",sc_r)\n",
    "print(es_r)"
   ]
  },
  {
   "cell_type": "markdown",
   "metadata": {},
   "source": [
    "## GridSearchCV"
   ]
  },
  {
   "cell_type": "code",
   "execution_count": 17,
   "metadata": {},
   "outputs": [],
   "source": [
    "from sklearn.model_selection import GridSearchCV"
   ]
  },
  {
   "cell_type": "code",
   "execution_count": 42,
   "metadata": {},
   "outputs": [],
   "source": [
    "clf_Param={\n",
    "   'alpha': [30], \n",
    "    'booster': ['gbtree'],\n",
    "    'n_estimators' : [15],\n",
    "    'gamma' : [0.01]\n",
    "    \n",
    "\n",
    "}       "
   ]
  },
  {
   "cell_type": "code",
   "execution_count": 43,
   "metadata": {},
   "outputs": [
    {
     "name": "stdout",
     "output_type": "stream",
     "text": [
      "{'alpha': 30, 'booster': 'gbtree', 'gamma': 0.01, 'n_estimators': 15}  Score :  0.6747110970983308\n",
      "XGBRegressor(alpha=30, base_score=0.5, booster='gbtree', colsample_bylevel=1,\n",
      "             colsample_bynode=1, colsample_bytree=1, gamma=0.01, gpu_id=-1,\n",
      "             importance_type='gain', interaction_constraints='',\n",
      "             learning_rate=0.300000012, max_delta_step=0, max_depth=6,\n",
      "             min_child_weight=1, missing=nan, monotone_constraints='()',\n",
      "             n_estimators=15, n_jobs=4, num_parallel_tree=1, random_state=0,\n",
      "             reg_alpha=30, reg_lambda=1, scale_pos_weight=1, subsample=1,\n",
      "             tree_method='exact', validate_parameters=1, verbosity=None)\n"
     ]
    }
   ],
   "source": [
    "clf = GridSearchCV(Base_models, clf_Param, cv=5, return_train_score=False)\n",
    "clf.fit(x,y)\n",
    "pa_c=clf.best_params_\n",
    "sc_c=clf.best_score_\n",
    "es_c=clf.best_estimator_\n",
    "print(pa_c,\" Score : \",sc_c)\n",
    "print(es_c)"
   ]
  },
  {
   "cell_type": "code",
   "execution_count": 44,
   "metadata": {},
   "outputs": [
    {
     "data": {
      "text/plain": [
       "XGBRegressor(alpha=30, base_score=0.5, booster='gbtree', colsample_bylevel=1,\n",
       "             colsample_bynode=1, colsample_bytree=1, gamma=0.01, gpu_id=-1,\n",
       "             importance_type='gain', interaction_constraints='',\n",
       "             learning_rate=0.300000012, max_delta_step=0, max_depth=6,\n",
       "             min_child_weight=1, missing=nan, monotone_constraints='()',\n",
       "             n_estimators=15, n_jobs=4, num_parallel_tree=1, random_state=0,\n",
       "             reg_alpha=30, reg_lambda=1, scale_pos_weight=1, subsample=1,\n",
       "             tree_method='exact', validate_parameters=1, verbosity=None)"
      ]
     },
     "execution_count": 44,
     "metadata": {},
     "output_type": "execute_result"
    }
   ],
   "source": [
    "Tuned_Model=clf.best_estimator_\n",
    "Tuned_Model"
   ]
  },
  {
   "cell_type": "code",
   "execution_count": 45,
   "metadata": {},
   "outputs": [
    {
     "data": {
      "text/plain": [
       "0.6747110970983308"
      ]
     },
     "execution_count": 45,
     "metadata": {},
     "output_type": "execute_result"
    }
   ],
   "source": [
    "scores_dict['Tuned Model'] = sc_c\n",
    "sc_c"
   ]
  },
  {
   "cell_type": "markdown",
   "metadata": {},
   "source": [
    "## Boosting Bagging Parameters"
   ]
  },
  {
   "cell_type": "code",
   "execution_count": 46,
   "metadata": {},
   "outputs": [],
   "source": [
    "# Boosting "
   ]
  },
  {
   "cell_type": "code",
   "execution_count": 50,
   "metadata": {},
   "outputs": [],
   "source": [
    "  Adb_params={\n",
    "    'n_estimators': [1,3,5,7],\n",
    "    'learning_rate': np.arange(0,1, 0.1).tolist() \n",
    "} "
   ]
  },
  {
   "cell_type": "code",
   "execution_count": 51,
   "metadata": {},
   "outputs": [
    {
     "name": "stdout",
     "output_type": "stream",
     "text": [
      "{'n_estimators': 1, 'learning_rate': 0.30000000000000004}\n",
      "0.6767711317304892\n",
      "\n",
      "AdaBoostRegressor(base_estimator=XGBRegressor(alpha=30, base_score=0.5,\n",
      "                                              booster='gbtree',\n",
      "                                              colsample_bylevel=1,\n",
      "                                              colsample_bynode=1,\n",
      "                                              colsample_bytree=1, gamma=0.01,\n",
      "                                              gpu_id=-1, importance_type='gain',\n",
      "                                              interaction_constraints='',\n",
      "                                              learning_rate=0.300000012,\n",
      "                                              max_delta_step=0, max_depth=6,\n",
      "                                              min_child_weight=1, missing=nan,\n",
      "                                              monotone_constraints='()',\n",
      "                                              n_estimators=15, n_jobs=4,\n",
      "                                              num_parallel_tree=1,\n",
      "                                              random_state=0, reg_alpha=30,\n",
      "                                              reg_lambda=1, scale_pos_weight=1,\n",
      "                                              subsample=1, tree_method='exact',\n",
      "                                              validate_parameters=1,\n",
      "                                              verbosity=None),\n",
      "                  learning_rate=0.30000000000000004, n_estimators=1)\n"
     ]
    }
   ],
   "source": [
    "Adbclf = RandomizedSearchCV(  AdaBoostRegressor(Tuned_Model), Adb_params, cv=5, return_train_score=False)\n",
    "Adbclf.fit(x,y)\n",
    "pa_Adb=Adbclf.best_params_\n",
    "sc_Adb=Adbclf.best_score_\n",
    "es_Adb=Adbclf.best_estimator_\n",
    "print(pa_Adb)\n",
    "print(sc_Adb)\n",
    "print()\n",
    "print(es_Adb)"
   ]
  },
  {
   "cell_type": "code",
   "execution_count": 52,
   "metadata": {},
   "outputs": [
    {
     "data": {
      "text/plain": [
       "0.6767711317304892"
      ]
     },
     "execution_count": 52,
     "metadata": {},
     "output_type": "execute_result"
    }
   ],
   "source": [
    "scores_dict['Boosting Model'] = sc_Adb\n",
    "sc_Adb"
   ]
  },
  {
   "cell_type": "markdown",
   "metadata": {},
   "source": [
    "############################################################################################################################"
   ]
  },
  {
   "cell_type": "code",
   "execution_count": 53,
   "metadata": {},
   "outputs": [
    {
     "name": "stdout",
     "output_type": "stream",
     "text": [
      "Model Scores :  [0.5414481339778263, 0.6747110970983308, 0.6767711317304892]\n",
      "Model Names :  ['Base Moddels', 'Tuned Model', 'Adb Models']\n"
     ]
    }
   ],
   "source": [
    "ModelScores = [results_base,sc_c,sc_Adb]\n",
    "print(\"Model Scores : \",ModelScores)\n",
    "ModelNames= ['Base Moddels','Tuned Model','Adb Models']\n",
    "print(\"Model Names : \",ModelNames)"
   ]
  },
  {
   "cell_type": "code",
   "execution_count": 54,
   "metadata": {},
   "outputs": [
    {
     "name": "stdout",
     "output_type": "stream",
     "text": [
      "XGBRegressor\n",
      "Base Moddels Accuracy : 0.5414481339778263\n",
      "Tuned Model Accuracy : 0.6747110970983308\n",
      "Adb Models Accuracy : 0.6767711317304892\n"
     ]
    }
   ],
   "source": [
    "print(mod)\n",
    "for n,s in zip(ModelNames,ModelScores):\n",
    "    print('{} Accuracy : {}'.format(n,s))  "
   ]
  },
  {
   "cell_type": "code",
   "execution_count": 55,
   "metadata": {},
   "outputs": [],
   "source": [
    "best_accuracy=0.0\n",
    "best_model=\"\""
   ]
  },
  {
   "cell_type": "code",
   "execution_count": 56,
   "metadata": {},
   "outputs": [
    {
     "name": "stdout",
     "output_type": "stream",
     "text": [
      "Classifier with best accuracy : Adb Models : 0.6767711317304892\n"
     ]
    }
   ],
   "source": [
    "for n,s in zip(ModelNames,ModelScores):\n",
    "    if s>best_accuracy:\n",
    "        best_accuracy=s\n",
    "        best_model=n\n",
    "\n",
    "        \n",
    "print('Classifier with best accuracy : {} : {}'.format(best_model,best_accuracy))"
   ]
  },
  {
   "cell_type": "code",
   "execution_count": 58,
   "metadata": {},
   "outputs": [
    {
     "name": "stderr",
     "output_type": "stream",
     "text": [
      "No handles with labels found to put in legend.\n"
     ]
    },
    {
     "data": {
      "image/png": "[encoded data removed]",
      "text/plain": [
       "<Figure size 1080x504 with 1 Axes>"
      ]
     },
     "metadata": {},
     "output_type": "display_data"
    }
   ],
   "source": [
    "import seaborn as sns\n",
    "\n",
    "        \n",
    "with sns.color_palette('muted'):\n",
    "  algo_name = list(scores_dict.keys())\n",
    "  scores = list(scores_dict.values())\n",
    "  #sns.color_palette(\"Greens_d\", len(dataset))\n",
    "  # deep , light winter spring\n",
    "  sns.set(rc={'figure.figsize':(15,7)})\n",
    "  plt.xlabel(\"Models\",fontsize=20)\n",
    "  plt.ylabel(\"Accuracy score\",fontsize=20)\n",
    "  plt.title(\"XGB Regressor\",fontsize=20)\n",
    "  plt.tick_params(labelsize=15)\n",
    "  plt.legend(loc=\"best\",fontsize=15),\n",
    "  s=sns.barplot(x=algo_name,y=scores) \n",
    "  #legend(labels)\n",
    "  for idx, val in enumerate(scores):\n",
    "    s.text(idx,val, round(scores[idx]*100,2), color='black', ha=\"center\",fontsize=16)\n",
    "    \n",
    "  plt.show()\n"
   ]
  },
  {
   "cell_type": "code",
   "execution_count": null,
   "metadata": {},
   "outputs": [],
   "source": []
  }
 ],
 "metadata": {
  "kernelspec": {
   "display_name": "Python 3",
   "language": "python",
   "name": "python3"
  },
  "language_info": {
   "codemirror_mode": {
    "name": "ipython",
    "version": 3
   },
   "file_extension": ".py",
   "mimetype": "text/x-python",
   "name": "python",
   "nbconvert_exporter": "python",
   "pygments_lexer": "ipython3",
   "version": "3.8.3"
  }
 },
 "nbformat": 4,
 "nbformat_minor": 4
}
