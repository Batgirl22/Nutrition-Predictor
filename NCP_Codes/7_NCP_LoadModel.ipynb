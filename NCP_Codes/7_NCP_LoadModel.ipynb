{
 "cells": [
  {
   "cell_type": "code",
   "execution_count": 1,
   "metadata": {},
   "outputs": [],
   "source": [
    "import pickle\n",
    "import math"
   ]
  },
  {
   "cell_type": "code",
   "execution_count": 3,
   "metadata": {},
   "outputs": [
    {
     "data": {
      "text/plain": [
       "AdaBoostRegressor(base_estimator=SVR(C=19), learning_rate=0.1, n_estimators=100)"
      ]
     },
     "execution_count": 3,
     "metadata": {},
     "output_type": "execute_result"
    }
   ],
   "source": [
    "# load the model from disk\n",
    "fileName='NCalModel.pkl'\n",
    "loaded_model=pickle.load(open(fileName,'rb'))\n",
    "loaded_model"
   ]
  },
  {
   "cell_type": "code",
   "execution_count": 4,
   "metadata": {},
   "outputs": [],
   "source": [
    "data=[1,174,75,55] #1,174,75,55,460.33"
   ]
  },
  {
   "cell_type": "code",
   "execution_count": null,
   "metadata": {},
   "outputs": [],
   "source": [
    "# Gender,Height(cm),Weight(kg),Age"
   ]
  },
  {
   "cell_type": "code",
   "execution_count": 7,
   "metadata": {},
   "outputs": [],
   "source": [
    "#print(data)\n",
    "_min=[0,147,30,20];\n",
    "_range=[1,42,80,58];\n",
    "    \n",
    "scaled_gender=data[0]\n",
    "scaled_height=(data[1]-_min[1])/_range[1]\n",
    "scaled_weight=(data[2]-_min[2])/_range[2]\n",
    "scaled_age=(data[3]-_min[3])/_range[3]"
   ]
  },
  {
   "cell_type": "code",
   "execution_count": 8,
   "metadata": {},
   "outputs": [],
   "source": [
    "newData=[scaled_gender,scaled_height,scaled_weight,scaled_age]\n",
    "#print(newData)"
   ]
  },
  {
   "cell_type": "code",
   "execution_count": 10,
   "metadata": {},
   "outputs": [],
   "source": [
    "# print(classifier.predict([[variance,skewness,curtosis,entropy]]))\n",
    "predictedValue = loaded_model.predict([newData])"
   ]
  },
  {
   "cell_type": "code",
   "execution_count": 13,
   "metadata": {},
   "outputs": [
    {
     "name": "stdout",
     "output_type": "stream",
     "text": [
      "Calories: [456.10300499]\n"
     ]
    }
   ],
   "source": [
    "# print(type(predictedValue))\n",
    "print('Calories:',predictedValue)"
   ]
  },
  {
   "cell_type": "code",
   "execution_count": 14,
   "metadata": {},
   "outputs": [
    {
     "name": "stdout",
     "output_type": "stream",
     "text": [
      "<class 'float'>\n"
     ]
    }
   ],
   "source": [
    "#convert numpy nd array to compatible type in python\n",
    "converted_prediction=(predictedValue).tolist()[0]\n",
    "print(type(converted_prediction))"
   ]
  },
  {
   "cell_type": "code",
   "execution_count": null,
   "metadata": {},
   "outputs": [],
   "source": []
  }
 ],
 "metadata": {
  "kernelspec": {
   "display_name": "Python 3",
   "language": "python",
   "name": "python3"
  },
  "language_info": {
   "codemirror_mode": {
    "name": "ipython",
    "version": 3
   },
   "file_extension": ".py",
   "mimetype": "text/x-python",
   "name": "python",
   "nbconvert_exporter": "python",
   "pygments_lexer": "ipython3",
   "version": "3.8.5"
  }
 },
 "nbformat": 4,
 "nbformat_minor": 4
}
