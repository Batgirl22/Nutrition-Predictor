{
 "cells": [
  {
   "cell_type": "markdown",
   "metadata": {},
   "source": [
    "## Voting Configuration"
   ]
  },
  {
   "cell_type": "code",
   "execution_count": 1,
   "metadata": {},
   "outputs": [],
   "source": [
    "# Import packages"
   ]
  },
  {
   "cell_type": "code",
   "execution_count": 2,
   "metadata": {},
   "outputs": [],
   "source": [
    "import numpy as np \n",
    "import pandas as pd \n",
    "import warnings\n",
    "from sklearn.decomposition import PCA\n",
    "from sklearn.pipeline import Pipeline\n",
    "warnings.filterwarnings(\"ignore\")"
   ]
  },
  {
   "cell_type": "code",
   "execution_count": 3,
   "metadata": {},
   "outputs": [],
   "source": [
    " # Algorithms\n",
    "from sklearn.ensemble import GradientBoostingRegressor\n",
    "from sklearn.ensemble import AdaBoostRegressor\n",
    "from sklearn.ensemble import BaggingRegressor\n",
    "from sklearn.ensemble import VotingRegressor\n",
    "from xgboost import XGBRegressor\n",
    "from sklearn.tree import DecisionTreeRegressor\n",
    "from sklearn.ensemble import RandomForestRegressor\n",
    "from sklearn.neural_network import MLPRegressor\n",
    "from sklearn.linear_model import LinearRegression\n",
    "from sklearn.svm import SVR\n",
    "from sklearn.gaussian_process import GaussianProcessRegressor\n",
    "from sklearn.linear_model import LogisticRegression"
   ]
  },
  {
   "cell_type": "code",
   "execution_count": 4,
   "metadata": {},
   "outputs": [],
   "source": [
    "# Scaling\n",
    "from sklearn.preprocessing import StandardScaler\n",
    "from sklearn.preprocessing import MinMaxScaler\n",
    "#Cross Validation\n",
    "from sklearn.model_selection import train_test_split\n",
    "from sklearn.model_selection import cross_val_score\n",
    "from sklearn.model_selection import StratifiedKFold\n",
    "# Searching\n",
    "from sklearn.model_selection import RandomizedSearchCV\n",
    "from sklearn.model_selection import GridSearchCV"
   ]
  },
  {
   "cell_type": "code",
   "execution_count": 5,
   "metadata": {},
   "outputs": [],
   "source": [
    "# Visualization\n",
    "import plotly as plot\n",
    "import plotly.express as px\n",
    "import plotly.graph_objs as go\n",
    "import matplotlib.pyplot as plt\n",
    "import seaborn as sns\n",
    "import os\n",
    "from sklearn.metrics import accuracy_score,mean_squared_error\n",
    "import plotly.offline as pyo\n",
    "from plotly.offline import init_notebook_mode,plot,iplot"
   ]
  },
  {
   "cell_type": "code",
   "execution_count": 6,
   "metadata": {},
   "outputs": [],
   "source": [
    "# Read Data set \n",
    "data = pd.read_csv(\"New_Dataset_Gender_Height_Weight_Age_Calories.csv\")"
   ]
  },
  {
   "cell_type": "code",
   "execution_count": 7,
   "metadata": {},
   "outputs": [],
   "source": [
    "x = data.iloc[:,:4]\n",
    "y = data.iloc[:,4]"
   ]
  },
  {
   "cell_type": "code",
   "execution_count": 8,
   "metadata": {},
   "outputs": [],
   "source": [
    "# Feature scalling\n",
    "scaler=MinMaxScaler()\n",
    "x=scaler.fit_transform(x)"
   ]
  },
  {
   "cell_type": "code",
   "execution_count": null,
   "metadata": {},
   "outputs": [],
   "source": [
    "# AdaBoost  Svr\n",
    "svr=SVR(C=19,kernel='rbf')\n",
    "svr_adb=AdaBoostRegressor(svr,loss='linear',learning_rate=0.1, n_estimators=100)\n",
    "svr_s = cross_val_score(svr_adb,x,y, cv=5);\n",
    "svr_results=np.average(svr_s) ;\n",
    "print(svr_s)\n",
    "print(svr_results)"
   ]
  },
  {
   "cell_type": "code",
   "execution_count": null,
   "metadata": {},
   "outputs": [],
   "source": [
    "# AdaBoost Rf\n",
    "rf= RandomForestRegressor(max_depth=7, max_features='log2', n_estimators=1000)                   \n",
    "rf_adb =AdaBoostRegressor(rf,learning_rate=0.1, n_estimators=9)                \n",
    "rf_s = cross_val_score(rf_adb,x,y, cv=5);\n",
    "rf_results=np.average(rf_s) ;\n",
    "print(rf_s)\n",
    "print(rf_results)"
   ]
  },
  {
   "cell_type": "code",
   "execution_count": null,
   "metadata": {},
   "outputs": [],
   "source": [
    "# AdaBoost XGB\n",
    "xgb= XGBRegressor(alpha=30, booster='gbtree', gamma =0.01, n_estimators=15)  \n",
    "xgb_adb = AdaBoostRegressor(n_estimators=1, learning_rate=0.30000000000000004)\n",
    "xgb_s = cross_val_score(xgb ,x,y, cv=5);\n",
    "xgb_results=np.average(xgb_s) ;\n",
    "print(xgb_s)\n",
    "print(xgb_results)"
   ]
  },
  {
   "cell_type": "code",
   "execution_count": 12,
   "metadata": {},
   "outputs": [
    {
     "name": "stdout",
     "output_type": "stream",
     "text": [
      "[0.47046006 0.74082751 0.74900156 0.76115946 0.89632203]\n",
      "0.723554121242737\n"
     ]
    }
   ],
   "source": [
    "# AdaBoost GB\n",
    "gb= GradientBoostingRegressor(loss='lad', max_features='log2')\n",
    "gb_adb = AdaBoostRegressor(n_estimators=7, learning_rate=0.1)\n",
    "gb_s = cross_val_score(gb ,x,y, cv=5);\n",
    "gb_results=np.average(gb_s) ;\n",
    "print(gb_s)\n",
    "print(gb_results)"
   ]
  },
  {
   "cell_type": "code",
   "execution_count": 13,
   "metadata": {},
   "outputs": [
    {
     "name": "stdout",
     "output_type": "stream",
     "text": [
      "[0.28012705 0.68302851 0.65666906 0.58944814 0.86656884]\n",
      "0.6151683200308968\n"
     ]
    }
   ],
   "source": [
    "# AdaBoost Linear\n",
    "lin=LinearRegression(normalize=True,)\n",
    "lin_adb=AdaBoostRegressor(lin,loss='linear', n_estimators=5) \n",
    "lin_s = cross_val_score(lin_adb ,x,y, cv=5);\n",
    "lin_results=np.average(lin_s) ;\n",
    "print(lin_s)\n",
    "print(lin_results)"
   ]
  },
  {
   "cell_type": "code",
   "execution_count": 14,
   "metadata": {},
   "outputs": [
    {
     "name": "stdout",
     "output_type": "stream",
     "text": [
      "[0.53921593 0.73780347 0.76018457 0.76211593 0.90462183]\n",
      "0.7407883469891964\n"
     ]
    }
   ],
   "source": [
    "vot = VotingRegressor([('svr_adb',svr_adb),('rf_adb',rf_adb),('xgb',xgb),('gb',gb),('lin_adb',lin_adb)]) #,('adb_xgb',adb_xgb)\n",
    "cvot= cross_val_score(vot,x,y, cv=5);\n",
    "vot_results=np.average(cvot);\n",
    "print(cvot)\n",
    "print(vot_results)"
   ]
  },
  {
   "cell_type": "code",
   "execution_count": null,
   "metadata": {},
   "outputs": [],
   "source": [
    "def printCombination(arr, n, r): \n",
    "#creat 1D array\n",
    "    data = [0]*r; \n",
    " \n",
    "    combinationUtil(arr, data,0,n - 1, 0, r);                  \n",
    "\n",
    "def combinationUtil(arr, data, start,end, index, r):  \n",
    "    sub_comb_list=[];                 \n",
    "    if (index == r): \n",
    "        for j in range(r): \n",
    "            #print(data[j], end = \" \");\n",
    "            sub_comb_list.append(data[j]);\n",
    "        #print(); \n",
    "        combinationList.append(sub_comb_list);\n",
    "        return ; \n",
    "     \n",
    "    i = start;  \n",
    "    while(i <= end and end - i + 1 >= r - index): \n",
    "        data[index] = arr[i]; \n",
    "        combinationUtil(arr, data, i + 1,end, index + 1, r);  \n",
    "        i += 1; \n",
    "  \n",
    "# Driver Code\n",
    "r=[2,3,4]\n",
    "arr =  [('svr_adb',svr_adb),('rf_adb',rf_adb),('xgb',xgb),('gb',gb),('lin_adb',lin_adb)]\n",
    "       \n",
    "       \n",
    "\n",
    "n = len(arr); \n",
    "\n",
    "combinationList=[];\n",
    "\n",
    "for i in r:\n",
    "    printCombination(arr, n, i); "
   ]
  },
  {
   "cell_type": "code",
   "execution_count": null,
   "metadata": {},
   "outputs": [],
   "source": [
    "from sklearn.metrics import mean_squared_error, r2_score\n",
    "from tqdm.notebook import tqdm\n",
    "from time import sleep"
   ]
  },
  {
   "cell_type": "code",
   "execution_count": null,
   "metadata": {
    "scrolled": true
   },
   "outputs": [],
   "source": [
    "maxAcc=0;\n",
    "maxAcc_model=0;\n",
    "\n",
    "for oneCombination in combinationList: \n",
    "    evc = VotingRegressor( estimators= oneCombination);\n",
    "    model=evc;    \n",
    "    scores1 = cross_val_score(model,x,y, cv=5);\n",
    "    results=np.average(scores1) ;\n",
    "    if results>maxAcc:\n",
    "        maxAcc=results;\n",
    "        maxAcc_model=model;\n",
    "    for bc in oneCombination:\n",
    "        print(bc[0],end=\"   \")\n",
    "    print(\"    : \",results);"
   ]
  },
  {
   "cell_type": "code",
   "execution_count": null,
   "metadata": {},
   "outputs": [],
   "source": [
    "# svr_adb   xgb   gb   lin_adb       :  0.750408025125199\n",
    "# svr_adb   rf_adb       :  0.750569943140806\n",
    "# svr_adb   xgb       :  0.7480920892811702\n",
    "# svr_adb   gb       :  0.7617938351941704\n",
    "# svr_adb   rf_adb   gb       :  0.7524403484782376"
   ]
  },
  {
   "cell_type": "code",
   "execution_count": null,
   "metadata": {},
   "outputs": [],
   "source": []
  },
  {
   "cell_type": "code",
   "execution_count": 16,
   "metadata": {},
   "outputs": [
    {
     "name": "stdout",
     "output_type": "stream",
     "text": [
      "[0.52109455 0.75103709 0.76485921 0.76909773 0.91461471]\n",
      "0.744140657898988\n"
     ]
    }
   ],
   "source": [
    "vot1 = VotingRegressor([('svr_adb',svr_adb),('xgb',xgb),('gb',gb),('lin_adb',lin_adb)]) #,('adb_xgb',adb_xgb) ('rf_adb',rf_adb),('xgb',xgb),('gb',gb),\n",
    "cvot1= cross_val_score(vot1,x,y, cv=5);\n",
    "vot1_results=np.average(cvot1);\n",
    "print(cvot1)\n",
    "print(vot1_results)"
   ]
  },
  {
   "cell_type": "code",
   "execution_count": 17,
   "metadata": {},
   "outputs": [
    {
     "name": "stdout",
     "output_type": "stream",
     "text": [
      "[0.53002608 0.74852895 0.78626444 0.78639963 0.90506529]\n",
      "0.7512568770977434\n"
     ]
    }
   ],
   "source": [
    "vot2 = VotingRegressor([('svr_adb',svr_adb), ('rf_adb',rf_adb)]) #,('adb_xgb',adb_xgb) ('rf_adb',rf_adb),('xgb',xgb),('gb',gb),\n",
    "cvot2= cross_val_score(vot2,x,y, cv=5);\n",
    "vot2_results=np.average(cvot2);\n",
    "print(cvot2)\n",
    "print(vot2_results)"
   ]
  },
  {
   "cell_type": "code",
   "execution_count": null,
   "metadata": {},
   "outputs": [],
   "source": [
    "vot3 = VotingRegressor([('svr_adb',svr_adb),('xgb',xgb)]) \n",
    "cvot3= cross_val_score(vot3,x,y, cv=5);\n",
    "vot3_results=np.average(cvot3);\n",
    "print(cvot3)\n",
    "print(vot3_results)"
   ]
  },
  {
   "cell_type": "code",
   "execution_count": null,
   "metadata": {},
   "outputs": [],
   "source": [
    "vot4 = VotingRegressor([('svr_adb',svr_adb),('gb',gb)]) \n",
    "cvot4= cross_val_score(vot4,x,y, cv=5);\n",
    "vot4_results=np.average(cvot4);\n",
    "print(cvot4)\n",
    "print(vot4_results)"
   ]
  },
  {
   "cell_type": "code",
   "execution_count": null,
   "metadata": {},
   "outputs": [],
   "source": [
    "vot5 = VotingRegressor([('svr_adb',svr_adb),('rf_adb',rf_adb),('gb',gb)]) \n",
    "cvot5= cross_val_score(vot5,x,y, cv=5);\n",
    "vot5_results=np.average(cvot5);\n",
    "print(cvot5)\n",
    "print(vot5_results)"
   ]
  },
  {
   "cell_type": "code",
   "execution_count": null,
   "metadata": {},
   "outputs": [],
   "source": []
  }
 ],
 "metadata": {
  "kernelspec": {
   "display_name": "Python 3",
   "language": "python",
   "name": "python3"
  },
  "language_info": {
   "codemirror_mode": {
    "name": "ipython",
    "version": 3
   },
   "file_extension": ".py",
   "mimetype": "text/x-python",
   "name": "python",
   "nbconvert_exporter": "python",
   "pygments_lexer": "ipython3",
   "version": "3.8.3"
  }
 },
 "nbformat": 4,
 "nbformat_minor": 4
}
