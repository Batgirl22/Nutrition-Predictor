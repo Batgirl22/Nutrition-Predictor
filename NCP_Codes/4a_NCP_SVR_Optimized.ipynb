{
 "cells": [
  {
   "cell_type": "markdown",
   "metadata": {},
   "source": [
    "## Hyperparameter Optimization Support Vector Regression"
   ]
  },
  {
   "cell_type": "code",
   "execution_count": 3,
   "metadata": {},
   "outputs": [],
   "source": [
    "import numpy as np \n",
    "import pandas as pd \n",
    "from sklearn import metrics"
   ]
  },
  {
   "cell_type": "code",
   "execution_count": 4,
   "metadata": {},
   "outputs": [],
   "source": [
    "# warning\n",
    "import warnings\n",
    "warnings.filterwarnings('ignore')"
   ]
  },
  {
   "cell_type": "code",
   "execution_count": 5,
   "metadata": {},
   "outputs": [],
   "source": [
    "# Pipeline\n",
    "from sklearn.decomposition import PCA\n",
    "from sklearn.pipeline import Pipeline"
   ]
  },
  {
   "cell_type": "code",
   "execution_count": 6,
   "metadata": {},
   "outputs": [],
   "source": [
    "# Scaling\n",
    "from sklearn.preprocessing import StandardScaler\n",
    "from sklearn.preprocessing import MinMaxScaler\n",
    "#Cross Validation\n",
    "from sklearn.model_selection import train_test_split\n",
    "from sklearn.model_selection import cross_val_score\n",
    "from sklearn.model_selection import StratifiedKFold\n",
    "from sklearn.model_selection import KFold \n",
    "# Searching\n",
    "from sklearn.model_selection import RandomizedSearchCV\n",
    "from sklearn.model_selection import GridSearchCV"
   ]
  },
  {
   "cell_type": "code",
   "execution_count": 7,
   "metadata": {},
   "outputs": [],
   "source": [
    " # Algorithms\n",
    "from sklearn.ensemble import GradientBoostingRegressor\n",
    "from sklearn.ensemble import AdaBoostRegressor\n",
    "from sklearn.ensemble import BaggingRegressor\n",
    "from sklearn.ensemble import VotingRegressor\n",
    "from xgboost import XGBRegressor\n",
    "from sklearn.tree import DecisionTreeRegressor\n",
    "from sklearn.ensemble import RandomForestRegressor\n",
    "from sklearn.neural_network import MLPRegressor\n",
    "from sklearn.linear_model import LinearRegression\n",
    "from sklearn.svm import SVR\n",
    "from sklearn.gaussian_process import GaussianProcessRegressor\n",
    "from sklearn.linear_model import LogisticRegression\n"
   ]
  },
  {
   "cell_type": "code",
   "execution_count": 8,
   "metadata": {},
   "outputs": [],
   "source": [
    "# Visualization\n",
    "import sklearn\n",
    "import numpy as np\n",
    "import pandas as pd\n",
    "import plotly as plot\n",
    "import plotly.express as px\n",
    "import plotly.graph_objs as go\n",
    "import matplotlib.pyplot as plt\n",
    "import seaborn as sns\n",
    "import os\n",
    "from sklearn.metrics import accuracy_score,mean_squared_error\n",
    "import plotly.offline as pyo\n",
    "from plotly.offline import init_notebook_mode,plot,iplot"
   ]
  },
  {
   "cell_type": "code",
   "execution_count": 9,
   "metadata": {},
   "outputs": [],
   "source": [
    "data = pd.read_csv(\"New_Dataset_Gender_Height_Weight_Age_Calories.csv\")"
   ]
  },
  {
   "cell_type": "code",
   "execution_count": 10,
   "metadata": {},
   "outputs": [],
   "source": [
    "x = data.iloc[:,:4]\n",
    "y = data.iloc[:,4]"
   ]
  },
  {
   "cell_type": "code",
   "execution_count": 11,
   "metadata": {},
   "outputs": [],
   "source": [
    "# Feature scalling\n",
    "scaler=MinMaxScaler()\n",
    "x=scaler.fit_transform(x)"
   ]
  },
  {
   "cell_type": "code",
   "execution_count": 12,
   "metadata": {},
   "outputs": [],
   "source": [
    "x_train,x_test,y_train,y_test=train_test_split(x, y,test_size=0.25,random_state=0,shuffle=True)"
   ]
  },
  {
   "cell_type": "code",
   "execution_count": 13,
   "metadata": {},
   "outputs": [],
   "source": [
    "# Decision Tree Classifier\n",
    "scores_dict = {}"
   ]
  },
  {
   "cell_type": "markdown",
   "metadata": {},
   "source": [
    "## Base Model"
   ]
  },
  {
   "cell_type": "code",
   "execution_count": 14,
   "metadata": {},
   "outputs": [
    {
     "name": "stdout",
     "output_type": "stream",
     "text": [
      "[0.29125931 0.03191764 0.26457462 0.43008764 0.56471804]\n",
      "0.3165114488589619\n"
     ]
    }
   ],
   "source": [
    "Base_models= SVR()\n",
    "mod=\"Support Vector Regressor\"\n",
    "s_base = cross_val_score(Base_models,x,y, cv=5);\n",
    "results_base=np.average(s_base) ;\n",
    "print(s_base)\n",
    "print(results_base)"
   ]
  },
  {
   "cell_type": "code",
   "execution_count": 15,
   "metadata": {},
   "outputs": [
    {
     "data": {
      "text/plain": [
       "0.3165114488589619"
      ]
     },
     "execution_count": 15,
     "metadata": {},
     "output_type": "execute_result"
    }
   ],
   "source": [
    "scores_dict['Base Model'] = results_base\n",
    "results_base"
   ]
  },
  {
   "cell_type": "markdown",
   "metadata": {},
   "source": [
    "## RandomizedSearchCV"
   ]
  },
  {
   "cell_type": "code",
   "execution_count": 16,
   "metadata": {},
   "outputs": [],
   "source": [
    "from sklearn.model_selection import RandomizedSearchCV"
   ]
  },
  {
   "cell_type": "code",
   "execution_count": 17,
   "metadata": {},
   "outputs": [],
   "source": [
    "rs_Param={\n",
    "    'C': [1,10,20], \n",
    "    'kernel': ['rbf','linear','poly','sigmoid'] \n",
    "}\n",
    "   "
   ]
  },
  {
   "cell_type": "code",
   "execution_count": 18,
   "metadata": {},
   "outputs": [
    {
     "name": "stdout",
     "output_type": "stream",
     "text": [
      "{'kernel': 'rbf', 'C': 20}  Score :  0.7334171926901882\n",
      "SVR(C=20)\n"
     ]
    }
   ],
   "source": [
    "rs = RandomizedSearchCV(Base_models,rs_Param,cv=5,return_train_score=True,n_iter=10)  \n",
    "rs.fit(x,y)\n",
    "pa_r=rs.best_params_\n",
    "sc_r=rs.best_score_\n",
    "es_r=rs.best_estimator_\n",
    "print(pa_r,\" Score : \",sc_r)\n",
    "print(es_r)"
   ]
  },
  {
   "cell_type": "markdown",
   "metadata": {},
   "source": [
    "## GridSearchCV"
   ]
  },
  {
   "cell_type": "code",
   "execution_count": 19,
   "metadata": {},
   "outputs": [],
   "source": [
    "from sklearn.model_selection import GridSearchCV"
   ]
  },
  {
   "cell_type": "code",
   "execution_count": 18,
   "metadata": {},
   "outputs": [],
   "source": [
    "clf_Param={\n",
    "    'C': np.arange(1,20, 0.5).tolist() ,\n",
    "    'kernel': ['rbf']\n",
    "}    "
   ]
  },
  {
   "cell_type": "code",
   "execution_count": 19,
   "metadata": {},
   "outputs": [
    {
     "name": "stdout",
     "output_type": "stream",
     "text": [
      "{'C': 19.0, 'kernel': 'rbf'}  Score :  0.7339226722848695\n",
      "SVR(C=19.0)\n"
     ]
    }
   ],
   "source": [
    "clf = GridSearchCV(Base_models, clf_Param, cv=5, return_train_score=False)\n",
    "clf.fit(x,y)\n",
    "pa_c=clf.best_params_\n",
    "sc_c=clf.best_score_\n",
    "es_c=clf.best_estimator_\n",
    "print(pa_c,\" Score : \",sc_c)\n",
    "print(es_c)"
   ]
  },
  {
   "cell_type": "code",
   "execution_count": 20,
   "metadata": {},
   "outputs": [
    {
     "data": {
      "text/plain": [
       "SVR(C=19.0)"
      ]
     },
     "execution_count": 20,
     "metadata": {},
     "output_type": "execute_result"
    }
   ],
   "source": [
    "Tuned_Model=clf.best_estimator_\n",
    "Tuned_Model"
   ]
  },
  {
   "cell_type": "code",
   "execution_count": 21,
   "metadata": {},
   "outputs": [
    {
     "data": {
      "text/plain": [
       "0.7339226722848695"
      ]
     },
     "execution_count": 21,
     "metadata": {},
     "output_type": "execute_result"
    }
   ],
   "source": [
    "scores_dict['Tuned Model'] = sc_c\n",
    "sc_c"
   ]
  },
  {
   "cell_type": "markdown",
   "metadata": {},
   "source": [
    "## Boosting Bagging Parameters"
   ]
  },
  {
   "cell_type": "code",
   "execution_count": 22,
   "metadata": {},
   "outputs": [],
   "source": [
    "# Boosting "
   ]
  },
  {
   "cell_type": "code",
   "execution_count": 23,
   "metadata": {},
   "outputs": [],
   "source": [
    "  Adb_params={\n",
    "    'n_estimators': [1,100],\n",
    "    'learning_rate': np.arange(0,1, 0.1).tolist() \n",
    "} "
   ]
  },
  {
   "cell_type": "code",
   "execution_count": 24,
   "metadata": {},
   "outputs": [
    {
     "name": "stdout",
     "output_type": "stream",
     "text": [
      "{'learning_rate': 0.4, 'n_estimators': 100}\n",
      "0.7642657621167002\n",
      "\n",
      "AdaBoostRegressor(base_estimator=SVR(C=19.0), learning_rate=0.4,\n",
      "                  n_estimators=100)\n"
     ]
    }
   ],
   "source": [
    "Adbclf = GridSearchCV(  AdaBoostRegressor(Tuned_Model), Adb_params, cv=5, return_train_score=False)\n",
    "Adbclf.fit(x,y)\n",
    "pa_Adb=Adbclf.best_params_\n",
    "sc_Adb=Adbclf.best_score_\n",
    "es_Adb=Adbclf.best_estimator_\n",
    "print(pa_Adb)\n",
    "print(sc_Adb)\n",
    "print()\n",
    "print(es_Adb)"
   ]
  },
  {
   "cell_type": "code",
   "execution_count": 25,
   "metadata": {},
   "outputs": [
    {
     "data": {
      "text/plain": [
       "0.7642657621167002"
      ]
     },
     "execution_count": 25,
     "metadata": {},
     "output_type": "execute_result"
    }
   ],
   "source": [
    "scores_dict['Boosting Model'] = sc_Adb\n",
    "sc_Adb"
   ]
  },
  {
   "cell_type": "markdown",
   "metadata": {},
   "source": [
    "############################################################################################################################"
   ]
  },
  {
   "cell_type": "code",
   "execution_count": 26,
   "metadata": {},
   "outputs": [
    {
     "name": "stdout",
     "output_type": "stream",
     "text": [
      "Model Scores :  [0.3165114488589619, 0.7339226722848695, 0.7642657621167002]\n",
      "Model Names :  ['Base Moddels', 'Tuned Model', 'Adb Models']\n"
     ]
    }
   ],
   "source": [
    "ModelScores = [results_base,sc_c,sc_Adb]\n",
    "print(\"Model Scores : \",ModelScores)\n",
    "ModelNames= ['Base Moddels','Tuned Model','Adb Models']\n",
    "print(\"Model Names : \",ModelNames)"
   ]
  },
  {
   "cell_type": "code",
   "execution_count": 27,
   "metadata": {},
   "outputs": [
    {
     "name": "stdout",
     "output_type": "stream",
     "text": [
      "Support Vector Machines\n",
      "Base Moddels Accuracy : 0.3165114488589619\n",
      "Tuned Model Accuracy : 0.7339226722848695\n",
      "Adb Models Accuracy : 0.7642657621167002\n"
     ]
    }
   ],
   "source": [
    "print(mod)\n",
    "for n,s in zip(ModelNames,ModelScores):\n",
    "    print('{} Accuracy : {}'.format(n,s))  "
   ]
  },
  {
   "cell_type": "code",
   "execution_count": 28,
   "metadata": {},
   "outputs": [],
   "source": [
    "best_accuracy=0.0\n",
    "best_model=\"\""
   ]
  },
  {
   "cell_type": "code",
   "execution_count": 29,
   "metadata": {},
   "outputs": [
    {
     "name": "stdout",
     "output_type": "stream",
     "text": [
      "Classifier with best accuracy : Adb Models : 0.7642657621167002\n"
     ]
    }
   ],
   "source": [
    "for n,s in zip(ModelNames,ModelScores):\n",
    "    if s>best_accuracy:\n",
    "        best_accuracy=s\n",
    "        best_model=n\n",
    "\n",
    "        \n",
    "print('Classifier with best accuracy : {} : {}'.format(best_model,best_accuracy))"
   ]
  },
  {
   "cell_type": "code",
   "execution_count": 31,
   "metadata": {},
   "outputs": [
    {
     "name": "stderr",
     "output_type": "stream",
     "text": [
      "No handles with labels found to put in legend.\n"
     ]
    },
    {
     "data": {
      "image/png": "[encoded data removed]",
      "text/plain": [
       "<Figure size 1080x504 with 1 Axes>"
      ]
     },
     "metadata": {},
     "output_type": "display_data"
    }
   ],
   "source": [
    "import seaborn as sns\n",
    "\n",
    "with sns.color_palette('muted'):\n",
    "  algo_name = list(scores_dict.keys())\n",
    "  scores = list(scores_dict.values())\n",
    "  #sns.color_palette(\"Greens_d\", len(dataset))\n",
    "  # deep , light winter spring\n",
    "  sns.set(rc={'figure.figsize':(15,7)})\n",
    "  plt.xlabel(\"Models\",fontsize=20)\n",
    "  plt.ylabel(\"Accuracy score\",fontsize=20)\n",
    "  plt.title(\"Support Vector Regressor\",fontsize=20)\n",
    "  plt.tick_params(labelsize=15)\n",
    "  plt.legend(loc=\"best\",fontsize=15),\n",
    "  s=sns.barplot(x=algo_name,y=scores) \n",
    "  #legend(labels)\n",
    "  for idx, val in enumerate(scores):\n",
    "    s.text(idx,val, round(scores[idx]*100,2), color='black', ha=\"center\",fontsize=16)\n",
    "    \n",
    "  plt.show() "
   ]
  },
  {
   "cell_type": "code",
   "execution_count": null,
   "metadata": {},
   "outputs": [],
   "source": []
  },
  {
   "cell_type": "code",
   "execution_count": null,
   "metadata": {},
   "outputs": [],
   "source": []
  }
 ],
 "metadata": {
  "kernelspec": {
   "display_name": "Python 3",
   "language": "python",
   "name": "python3"
  },
  "language_info": {
   "codemirror_mode": {
    "name": "ipython",
    "version": 3
   },
   "file_extension": ".py",
   "mimetype": "text/x-python",
   "name": "python",
   "nbconvert_exporter": "python",
   "pygments_lexer": "ipython3",
   "version": "3.8.3"
  }
 },
 "nbformat": 4,
 "nbformat_minor": 4
}
