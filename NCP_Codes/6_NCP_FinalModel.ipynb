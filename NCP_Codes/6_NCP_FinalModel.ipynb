{
 "cells": [
  {
   "cell_type": "markdown",
   "metadata": {},
   "source": [
    "## NCP_Final_Model"
   ]
  },
  {
   "cell_type": "code",
   "execution_count": 1,
   "metadata": {},
   "outputs": [],
   "source": [
    "import numpy as np \n",
    "import pandas as pd \n",
    "import warnings\n",
    "warnings.filterwarnings(\"ignore\")"
   ]
  },
  {
   "cell_type": "code",
   "execution_count": 2,
   "metadata": {},
   "outputs": [],
   "source": [
    " # Algorithms\n",
    "from sklearn.ensemble import GradientBoostingRegressor\n",
    "from sklearn.ensemble import AdaBoostRegressor\n",
    "from sklearn.ensemble import BaggingRegressor\n",
    "from sklearn.ensemble import VotingRegressor\n",
    "from xgboost import XGBRegressor\n",
    "from sklearn.tree import DecisionTreeRegressor\n",
    "from sklearn.ensemble import RandomForestRegressor\n",
    "from sklearn.neural_network import MLPRegressor\n",
    "from sklearn.linear_model import LinearRegression\n",
    "from sklearn.svm import SVR\n",
    "from sklearn.gaussian_process import GaussianProcessRegressor\n",
    "from sklearn.linear_model import LogisticRegression"
   ]
  },
  {
   "cell_type": "code",
   "execution_count": 3,
   "metadata": {},
   "outputs": [],
   "source": [
    "# Scaling\n",
    "from sklearn.preprocessing import StandardScaler\n",
    "from sklearn.preprocessing import MinMaxScaler\n",
    "#Cross Validation\n",
    "from sklearn.model_selection import train_test_split\n",
    "from sklearn.model_selection import cross_val_score\n",
    "from sklearn.model_selection import StratifiedKFold\n",
    "# Searching\n",
    "from sklearn.model_selection import RandomizedSearchCV\n",
    "from sklearn.model_selection import GridSearchCV"
   ]
  },
  {
   "cell_type": "code",
   "execution_count": 4,
   "metadata": {},
   "outputs": [],
   "source": [
    "# Visualization\n",
    "import plotly as plot\n",
    "import plotly.express as px\n",
    "import plotly.graph_objs as go\n",
    "import matplotlib.pyplot as plt\n",
    "import seaborn as sns\n",
    "import os\n",
    "from sklearn.metrics import accuracy_score,mean_squared_error\n",
    "import plotly.offline as pyo\n",
    "from plotly.offline import init_notebook_mode,plot,iplot"
   ]
  },
  {
   "cell_type": "code",
   "execution_count": 5,
   "metadata": {},
   "outputs": [],
   "source": [
    "data = pd.read_csv(\"New_Dataset_Gender_Height_Weight_Age_Calories.csv\")"
   ]
  },
  {
   "cell_type": "code",
   "execution_count": 6,
   "metadata": {},
   "outputs": [],
   "source": [
    "x = data.iloc[:,:4]\n",
    "y = data.iloc[:,4]"
   ]
  },
  {
   "cell_type": "code",
   "execution_count": 7,
   "metadata": {},
   "outputs": [],
   "source": [
    "# Feature scalling\n",
    "scaler=MinMaxScaler()\n",
    "x=scaler.fit_transform(x)"
   ]
  },
  {
   "cell_type": "code",
   "execution_count": 8,
   "metadata": {},
   "outputs": [],
   "source": [
    "# Classifier score dict \n",
    "base_scores_dict = {}\n",
    "scores_dict = {}"
   ]
  },
  {
   "cell_type": "markdown",
   "metadata": {},
   "source": [
    "#############################################################################################################################"
   ]
  },
  {
   "cell_type": "markdown",
   "metadata": {},
   "source": [
    "## Base Models"
   ]
  },
  {
   "cell_type": "code",
   "execution_count": 9,
   "metadata": {},
   "outputs": [
    {
     "name": "stdout",
     "output_type": "stream",
     "text": [
      "[0.29125931 0.03191764 0.26457462 0.43008764 0.56471804]\n",
      "0.3165114488589619\n"
     ]
    }
   ],
   "source": [
    "# AdaBoost  Svr\n",
    "b_svr=SVR()\n",
    "b_svr_s = cross_val_score(b_svr,x,y, cv=5);\n",
    "b_svr_results=np.average(b_svr_s) ;\n",
    "print(b_svr_s)\n",
    "print(b_svr_results)"
   ]
  },
  {
   "cell_type": "code",
   "execution_count": 10,
   "metadata": {},
   "outputs": [
    {
     "data": {
      "text/plain": [
       "0.3165114488589619"
      ]
     },
     "execution_count": 10,
     "metadata": {},
     "output_type": "execute_result"
    }
   ],
   "source": [
    "base_scores_dict['SVR'] =b_svr_results\n",
    "b_svr_results"
   ]
  },
  {
   "cell_type": "code",
   "execution_count": 11,
   "metadata": {},
   "outputs": [
    {
     "name": "stdout",
     "output_type": "stream",
     "text": [
      "[0.27719335 0.61474688 0.64623929 0.72237713 0.74546128]\n",
      "0.601203586168278\n"
     ]
    }
   ],
   "source": [
    "# AdaBoost Rf\n",
    "b_rf= RandomForestRegressor()                                  \n",
    "b_rf_s = cross_val_score(b_rf,x,y, cv=5);\n",
    "b_rf_results=np.average(b_rf_s) ;\n",
    "print(b_rf_s)\n",
    "print(b_rf_results)"
   ]
  },
  {
   "cell_type": "code",
   "execution_count": 12,
   "metadata": {},
   "outputs": [
    {
     "data": {
      "text/plain": [
       "0.601203586168278"
      ]
     },
     "execution_count": 12,
     "metadata": {},
     "output_type": "execute_result"
    }
   ],
   "source": [
    "base_scores_dict['Rf'] = b_rf_results\n",
    "b_rf_results"
   ]
  },
  {
   "cell_type": "code",
   "execution_count": 13,
   "metadata": {},
   "outputs": [
    {
     "name": "stdout",
     "output_type": "stream",
     "text": [
      "[0.32095131 0.43117001 0.46288598 0.67839531 0.81383806]\n",
      "0.5414481339778263\n"
     ]
    }
   ],
   "source": [
    "# AdaBoost XGB\n",
    "b_xgb= XGBRegressor()  \n",
    "b_xgb_s = cross_val_score(b_xgb ,x,y, cv=5);\n",
    "b_xgb_results=np.average(b_xgb_s) ;\n",
    "print(b_xgb_s)\n",
    "print(b_xgb_results)"
   ]
  },
  {
   "cell_type": "code",
   "execution_count": 14,
   "metadata": {},
   "outputs": [
    {
     "data": {
      "text/plain": [
       "0.5414481339778263"
      ]
     },
     "execution_count": 14,
     "metadata": {},
     "output_type": "execute_result"
    }
   ],
   "source": [
    "base_scores_dict['XGB'] =b_xgb_results\n",
    "b_xgb_results"
   ]
  },
  {
   "cell_type": "code",
   "execution_count": 15,
   "metadata": {},
   "outputs": [
    {
     "name": "stdout",
     "output_type": "stream",
     "text": [
      "[0.41487483 0.615253   0.59206516 0.69205036 0.88651667]\n",
      "0.640152004384557\n"
     ]
    }
   ],
   "source": [
    "# AdaBoost GB\n",
    "b_gb= GradientBoostingRegressor()\n",
    "b_gb_s = cross_val_score(b_gb ,x,y, cv=5);\n",
    "b_gb_results=np.average(b_gb_s) ;\n",
    "print(b_gb_s)\n",
    "print(b_gb_results)"
   ]
  },
  {
   "cell_type": "code",
   "execution_count": 16,
   "metadata": {},
   "outputs": [
    {
     "data": {
      "text/plain": [
       "0.640152004384557"
      ]
     },
     "execution_count": 16,
     "metadata": {},
     "output_type": "execute_result"
    }
   ],
   "source": [
    "base_scores_dict['GB'] = b_gb_results\n",
    "b_gb_results"
   ]
  },
  {
   "cell_type": "code",
   "execution_count": 17,
   "metadata": {},
   "outputs": [
    {
     "name": "stdout",
     "output_type": "stream",
     "text": [
      "[0.22891175 0.6812667  0.65677186 0.60022752 0.85821989]\n",
      "0.6050795446557475\n"
     ]
    }
   ],
   "source": [
    "# AdaBoost Linear\n",
    "b_lin=LinearRegression()\n",
    "b_lin_s = cross_val_score(b_lin ,x,y, cv=5);\n",
    "b_lin_results=np.average(b_lin_s) ;\n",
    "print(b_lin_s)\n",
    "print(b_lin_results)"
   ]
  },
  {
   "cell_type": "code",
   "execution_count": 18,
   "metadata": {},
   "outputs": [
    {
     "data": {
      "text/plain": [
       "0.6050795446557475"
      ]
     },
     "execution_count": 18,
     "metadata": {},
     "output_type": "execute_result"
    }
   ],
   "source": [
    "base_scores_dict['Linear'] = b_lin_results\n",
    "b_lin_results"
   ]
  },
  {
   "cell_type": "markdown",
   "metadata": {},
   "source": [
    "##############################################################################################################################"
   ]
  },
  {
   "cell_type": "markdown",
   "metadata": {},
   "source": [
    "## Bagging and AdaBoost Models"
   ]
  },
  {
   "cell_type": "code",
   "execution_count": 19,
   "metadata": {},
   "outputs": [
    {
     "name": "stdout",
     "output_type": "stream",
     "text": [
      "[0.51179737 0.79119026 0.81856665 0.78874266 0.90802426]\n",
      "0.7636642399293275\n"
     ]
    }
   ],
   "source": [
    "# AdaBoost  Svr\n",
    "svr=SVR(C=19,kernel='rbf')\n",
    "svr_adb=AdaBoostRegressor(svr,loss='linear',learning_rate=0.1, n_estimators=100)\n",
    "svr_s = cross_val_score(svr_adb,x,y, cv=5);\n",
    "svr_results=np.average(svr_s) ;\n",
    "print(svr_s)\n",
    "print(svr_results)"
   ]
  },
  {
   "cell_type": "code",
   "execution_count": 20,
   "metadata": {},
   "outputs": [
    {
     "data": {
      "text/plain": [
       "0.7636642399293275"
      ]
     },
     "execution_count": 20,
     "metadata": {},
     "output_type": "execute_result"
    }
   ],
   "source": [
    "scores_dict['SVR_Adb'] =svr_results\n",
    "svr_results"
   ]
  },
  {
   "cell_type": "code",
   "execution_count": 21,
   "metadata": {},
   "outputs": [
    {
     "name": "stdout",
     "output_type": "stream",
     "text": [
      "[0.51880519 0.65330554 0.70627501 0.76389695 0.87470409]\n",
      "0.703397355879954\n"
     ]
    }
   ],
   "source": [
    "# AdaBoost Rf\n",
    "rf= RandomForestRegressor(max_depth=7, max_features='log2', n_estimators=1000)                   \n",
    "rf_adb =AdaBoostRegressor(rf,learning_rate=0.1, n_estimators=9)                \n",
    "rf_s = cross_val_score(rf_adb,x,y, cv=5);\n",
    "rf_results=np.average(rf_s) ;\n",
    "print(rf_s)\n",
    "print(rf_results)"
   ]
  },
  {
   "cell_type": "code",
   "execution_count": 22,
   "metadata": {},
   "outputs": [
    {
     "data": {
      "text/plain": [
       "0.703397355879954"
      ]
     },
     "execution_count": 22,
     "metadata": {},
     "output_type": "execute_result"
    }
   ],
   "source": [
    "scores_dict['Rf_Adb'] = rf_results\n",
    "rf_results"
   ]
  },
  {
   "cell_type": "code",
   "execution_count": 23,
   "metadata": {},
   "outputs": [
    {
     "name": "stdout",
     "output_type": "stream",
     "text": [
      "[0.54336707 0.59423406 0.63853434 0.74425944 0.85316057]\n",
      "0.6747110970983308\n"
     ]
    }
   ],
   "source": [
    "# AdaBoost XGB\n",
    "xgb= XGBRegressor(alpha=30, booster='gbtree', gamma =0.01, n_estimators=15)  \n",
    "xgb_adb = AdaBoostRegressor(n_estimators=1, learning_rate=0.30000000000000004)\n",
    "xgb_s = cross_val_score(xgb ,x,y, cv=5);\n",
    "xgb_results=np.average(xgb_s);\n",
    "print(xgb_s)\n",
    "print(xgb_results)"
   ]
  },
  {
   "cell_type": "code",
   "execution_count": 24,
   "metadata": {},
   "outputs": [
    {
     "data": {
      "text/plain": [
       "0.6747110970983308"
      ]
     },
     "execution_count": 24,
     "metadata": {},
     "output_type": "execute_result"
    }
   ],
   "source": [
    "scores_dict['XGB_Adb'] =xgb_results\n",
    "xgb_results"
   ]
  },
  {
   "cell_type": "code",
   "execution_count": 25,
   "metadata": {},
   "outputs": [
    {
     "name": "stdout",
     "output_type": "stream",
     "text": [
      "[0.4972986  0.71813387 0.69198935 0.74518006 0.90152889]\n",
      "0.7108261548928891\n"
     ]
    }
   ],
   "source": [
    "# AdaBoost GB\n",
    "gb= GradientBoostingRegressor(loss='lad', max_features='log2')\n",
    "gb_adb = AdaBoostRegressor(n_estimators=7, learning_rate=0.1)\n",
    "gb_s = cross_val_score(gb ,x,y, cv=5);\n",
    "gb_results=np.average(gb_s) ;\n",
    "print(gb_s)\n",
    "print(gb_results)"
   ]
  },
  {
   "cell_type": "code",
   "execution_count": 26,
   "metadata": {},
   "outputs": [
    {
     "data": {
      "text/plain": [
       "0.7108261548928891"
      ]
     },
     "execution_count": 26,
     "metadata": {},
     "output_type": "execute_result"
    }
   ],
   "source": [
    "scores_dict['GB_Adb'] = gb_results\n",
    "gb_results"
   ]
  },
  {
   "cell_type": "code",
   "execution_count": 27,
   "metadata": {},
   "outputs": [
    {
     "name": "stdout",
     "output_type": "stream",
     "text": [
      "[0.26218729 0.66146736 0.64225249 0.5901676  0.84423125]\n",
      "0.6000611976801327\n"
     ]
    }
   ],
   "source": [
    "# AdaBoost Linear\n",
    "lin=LinearRegression(normalize=True,)\n",
    "lin_adb=AdaBoostRegressor(lin,loss='linear', n_estimators=5) \n",
    "lin_s = cross_val_score(lin_adb ,x,y, cv=5);\n",
    "lin_results=np.average(lin_s) ;\n",
    "print(lin_s)\n",
    "print(lin_results)"
   ]
  },
  {
   "cell_type": "code",
   "execution_count": 28,
   "metadata": {},
   "outputs": [
    {
     "data": {
      "text/plain": [
       "0.6000611976801327"
      ]
     },
     "execution_count": 28,
     "metadata": {},
     "output_type": "execute_result"
    }
   ],
   "source": [
    "scores_dict['Lin_Adb'] = lin_results\n",
    "lin_results"
   ]
  },
  {
   "cell_type": "code",
   "execution_count": 29,
   "metadata": {},
   "outputs": [
    {
     "name": "stdout",
     "output_type": "stream",
     "text": [
      "[0.4601346  0.64465472 0.6635086  0.71809937 0.86564001]\n",
      "0.6704074601733647\n"
     ]
    }
   ],
   "source": [
    "# Base Voting\n",
    "b_vot = VotingRegressor([('b_svr',b_svr),('b_rf',b_rf),('b_xgb',b_xgb),('b_gb',b_gb),('b_lin',b_lin)]) #,('adb_xgb',adb_xgb)\n",
    "s_b_vot = cross_val_score(b_vot,x,y, cv=5);\n",
    "b_vot_results=np.average(s_b_vot);\n",
    "print(s_b_vot)\n",
    "print(b_vot_results)"
   ]
  },
  {
   "cell_type": "code",
   "execution_count": 30,
   "metadata": {},
   "outputs": [
    {
     "data": {
      "text/plain": [
       "0.6704074601733647"
      ]
     },
     "execution_count": 30,
     "metadata": {},
     "output_type": "execute_result"
    }
   ],
   "source": [
    "base_scores_dict['Voting'] = b_vot_results\n",
    "b_vot_results"
   ]
  },
  {
   "cell_type": "code",
   "execution_count": 31,
   "metadata": {},
   "outputs": [
    {
     "name": "stdout",
     "output_type": "stream",
     "text": [
      "[0.54181536 0.73082769 0.74542965 0.77018458 0.90554252]\n",
      "0.7387599621162566\n"
     ]
    }
   ],
   "source": [
    "# Optimized voting\n",
    "o_vot = VotingRegressor([('svr_adb',svr_adb),('rf_adb',rf_adb),('xgb',xgb),('gb',gb),('lin_adb',lin_adb)]) #,('adb_xgb',adb_xgb)\n",
    "s_o_vot = cross_val_score(o_vot,x,y, cv=5);\n",
    "o_vot_results=np.average(s_o_vot);\n",
    "print(s_o_vot)\n",
    "print(o_vot_results)"
   ]
  },
  {
   "cell_type": "code",
   "execution_count": 32,
   "metadata": {},
   "outputs": [
    {
     "data": {
      "text/plain": [
       "0.7387599621162566"
      ]
     },
     "execution_count": 32,
     "metadata": {},
     "output_type": "execute_result"
    }
   ],
   "source": [
    "scores_dict['Voting'] =o_vot_results\n",
    "o_vot_results"
   ]
  },
  {
   "cell_type": "code",
   "execution_count": 33,
   "metadata": {},
   "outputs": [
    {
     "name": "stdout",
     "output_type": "stream",
     "text": [
      "Optimized_Voting : 0.7387599621162566\n",
      "\n",
      "Bagging Boost\n",
      "svr_Adb : 0.7636642399293275\n",
      "rf_Adb : 0.703397355879954\n",
      "xgb_Adb : 0.6747110970983308\n",
      "gb_Adb : 0.7108261548928891\n",
      "linear_Adb : 0.6000611976801327\n",
      "Base_Voting : 0.6704074601733647\n",
      "\n",
      "Base_Voting : 0.6704074601733647\n",
      "Base Model\n",
      "svr : 0.3165114488589619\n",
      "rf : 0.601203586168278\n",
      "xgb : 0.5414481339778263\n",
      "gb : 0.640152004384557\n",
      "linear : 0.6050795446557475\n"
     ]
    }
   ],
   "source": [
    "print(\"Optimized_Voting :\", o_vot_results)\n",
    "print()\n",
    "print(\"Bagging Boost\")\n",
    "print(\"svr_Adb :\",svr_results)\n",
    "print(\"rf_Adb :\",rf_results)\n",
    "print(\"xgb_Adb :\",xgb_results)\n",
    "print(\"gb_Adb :\",gb_results)\n",
    "print(\"linear_Adb :\",lin_results)\n",
    "print(\"Base_Voting :\", b_vot_results)\n",
    "print()\n",
    "print(\"Base_Voting :\", b_vot_results)\n",
    "print(\"Base Model\")\n",
    "print(\"svr :\",b_svr_results)\n",
    "print(\"rf :\",b_rf_results)\n",
    "print(\"xgb :\",b_xgb_results)\n",
    "print(\"gb :\",b_gb_results)\n",
    "print(\"linear :\",b_lin_results)\n"
   ]
  },
  {
   "cell_type": "code",
   "execution_count": 34,
   "metadata": {},
   "outputs": [
    {
     "data": {
      "image/png": "[encoded data removed]",
      "text/plain": [
       "<Figure size 1080x504 with 1 Axes>"
      ]
     },
     "metadata": {},
     "output_type": "display_data"
    }
   ],
   "source": [
    "import seaborn as sns\n",
    "\n",
    "with sns.color_palette('muted'):\n",
    "  algo_name = list(base_scores_dict.keys())\n",
    "  scores = list(base_scores_dict.values())\n",
    "  #sns.color_palette(\"Greens_d\", len(dataset))\n",
    "  # deep , light winter spring\n",
    "  sns.set(rc={'figure.figsize':(15,7)})\n",
    "  plt.xlabel(\"Models\",fontsize=20)\n",
    "  plt.ylabel(\"Accuracy score\",fontsize=20)\n",
    "  plt.title(\"Base Models\",fontsize=20)\n",
    "  plt.tick_params(labelsize=15) \n",
    "  bs=sns.barplot(x=algo_name,y=scores)\n",
    "  for idx, val in enumerate(scores):\n",
    "    bs.text(idx,val, round(scores[idx]*100,2), color='black', ha=\"center\",fontsize=16)\n",
    "  plt.show()"
   ]
  },
  {
   "cell_type": "code",
   "execution_count": 35,
   "metadata": {},
   "outputs": [
    {
     "data": {
      "image/png": "[encoded data removed]",
      "text/plain": [
       "<Figure size 1080x504 with 1 Axes>"
      ]
     },
     "metadata": {},
     "output_type": "display_data"
    }
   ],
   "source": [
    "import seaborn as sns\n",
    "\n",
    "with sns.color_palette('muted'):\n",
    "  algo_name = list(scores_dict.keys())\n",
    "  scores = list(scores_dict.values())\n",
    "  #sns.color_palette(\"Greens_d\", len(dataset))\n",
    "  # deep , light winter spring\n",
    "  sns.set(rc={'figure.figsize':(15,7)})\n",
    "  plt.xlabel(\"Models\",fontsize=20)\n",
    "  plt.ylabel(\"Accuracy score\",fontsize=20)\n",
    "  plt.title(\"Optimized Models\",fontsize=20)\n",
    "  plt.tick_params(labelsize=15) \n",
    "  s=sns.barplot(x=algo_name,y=scores)\n",
    "  for idx, val in enumerate(scores):\n",
    "    s.text(idx,val, round(scores[idx]*100,2), color='black', ha=\"center\",fontsize=16)\n",
    "    \n",
    "  plt.show()  "
   ]
  },
  {
   "cell_type": "markdown",
   "metadata": {},
   "source": [
    "### Model Selection"
   ]
  },
  {
   "cell_type": "code",
   "execution_count": 36,
   "metadata": {},
   "outputs": [],
   "source": [
    "# Best voting config"
   ]
  },
  {
   "cell_type": "code",
   "execution_count": 37,
   "metadata": {},
   "outputs": [],
   "source": [
    "vot_scores_dict = {}"
   ]
  },
  {
   "cell_type": "code",
   "execution_count": 38,
   "metadata": {},
   "outputs": [
    {
     "name": "stdout",
     "output_type": "stream",
     "text": [
      "[0.52975929 0.74385016 0.76312705 0.76925253 0.91823694]\n",
      "0.7448451936097277\n"
     ]
    }
   ],
   "source": [
    "vot1 = VotingRegressor([('svr_adb',svr_adb),('xgb',xgb),('gb',gb),('lin_adb',lin_adb)]) #,('adb_xgb',adb_xgb) ('rf_adb',rf_adb),('xgb',xgb),('gb',gb),\n",
    "cvot1= cross_val_score(vot1,x,y, cv=5);\n",
    "vot1_results=np.average(cvot1);\n",
    "print(cvot1)\n",
    "print(vot1_results)"
   ]
  },
  {
   "cell_type": "code",
   "execution_count": 39,
   "metadata": {},
   "outputs": [
    {
     "data": {
      "text/plain": [
       "0.7448451936097277"
      ]
     },
     "execution_count": 39,
     "metadata": {},
     "output_type": "execute_result"
    }
   ],
   "source": [
    "vot_scores_dict['Voting_1'] = vot1_results\n",
    "vot1_results"
   ]
  },
  {
   "cell_type": "code",
   "execution_count": 40,
   "metadata": {},
   "outputs": [
    {
     "name": "stdout",
     "output_type": "stream",
     "text": [
      "[0.53844521 0.74329177 0.79072077 0.78376818 0.90397263]\n",
      "0.7520397143466081\n"
     ]
    }
   ],
   "source": [
    "vot2 = VotingRegressor([('svr_adb',svr_adb), ('rf_adb',rf_adb)]) #,('adb_xgb',adb_xgb) ('rf_adb',rf_adb),('xgb',xgb),('gb',gb),\n",
    "cvot2= cross_val_score(vot2,x,y, cv=5);\n",
    "vot2_results=np.average(cvot2);\n",
    "print(cvot2)\n",
    "print(vot2_results)"
   ]
  },
  {
   "cell_type": "code",
   "execution_count": 41,
   "metadata": {},
   "outputs": [
    {
     "data": {
      "text/plain": [
       "0.7448451936097277"
      ]
     },
     "execution_count": 41,
     "metadata": {},
     "output_type": "execute_result"
    }
   ],
   "source": [
    "vot_scores_dict['Voting_2'] = vot1_results\n",
    "vot1_results"
   ]
  },
  {
   "cell_type": "code",
   "execution_count": 42,
   "metadata": {},
   "outputs": [
    {
     "name": "stdout",
     "output_type": "stream",
     "text": [
      "[0.5501538  0.72201608 0.76861443 0.80182806 0.90371117]\n",
      "0.7492647074722629\n"
     ]
    }
   ],
   "source": [
    "vot3 = VotingRegressor([('svr_adb',svr_adb),('xgb',xgb)]) \n",
    "cvot3= cross_val_score(vot3,x,y, cv=5);\n",
    "vot3_results=np.average(cvot3);\n",
    "print(cvot3)\n",
    "print(vot3_results)"
   ]
  },
  {
   "cell_type": "code",
   "execution_count": 43,
   "metadata": {},
   "outputs": [
    {
     "data": {
      "text/plain": [
       "0.7448451936097277"
      ]
     },
     "execution_count": 43,
     "metadata": {},
     "output_type": "execute_result"
    }
   ],
   "source": [
    "vot_scores_dict['Voting_3'] = vot1_results\n",
    "vot1_results"
   ]
  },
  {
   "cell_type": "code",
   "execution_count": 44,
   "metadata": {},
   "outputs": [
    {
     "name": "stdout",
     "output_type": "stream",
     "text": [
      "[0.54502665 0.74961058 0.77503486 0.77722869 0.90540556]\n",
      "0.7504612689648235\n"
     ]
    }
   ],
   "source": [
    "vot5 = VotingRegressor([('svr_adb',svr_adb),('rf_adb',rf_adb),('gb',gb)]) \n",
    "cvot5= cross_val_score(vot5,x,y, cv=5);\n",
    "vot5_results=np.average(cvot5);\n",
    "print(cvot5)\n",
    "print(vot5_results)"
   ]
  },
  {
   "cell_type": "code",
   "execution_count": 45,
   "metadata": {},
   "outputs": [
    {
     "data": {
      "text/plain": [
       "0.7448451936097277"
      ]
     },
     "execution_count": 45,
     "metadata": {},
     "output_type": "execute_result"
    }
   ],
   "source": [
    "vot_scores_dict['Voting_4'] = vot1_results\n",
    "vot1_results"
   ]
  },
  {
   "cell_type": "code",
   "execution_count": 46,
   "metadata": {},
   "outputs": [
    {
     "name": "stdout",
     "output_type": "stream",
     "text": [
      "[0.53465124 0.77753087 0.81324559 0.78951626 0.91396103]\n",
      "0.7657809973992296\n"
     ]
    }
   ],
   "source": [
    "vot4 = VotingRegressor([('svr_adb',svr_adb),('gb',gb)]) \n",
    "cvot4= cross_val_score(vot4,x,y, cv=5);\n",
    "vot4_results=np.average(cvot4);\n",
    "print(cvot4)\n",
    "print(vot4_results)"
   ]
  },
  {
   "cell_type": "code",
   "execution_count": 47,
   "metadata": {},
   "outputs": [
    {
     "data": {
      "text/plain": [
       "0.7448451936097277"
      ]
     },
     "execution_count": 47,
     "metadata": {},
     "output_type": "execute_result"
    }
   ],
   "source": [
    "vot_scores_dict['Voting_5'] = vot1_results\n",
    "vot1_results\n"
   ]
  },
  {
   "cell_type": "code",
   "execution_count": 48,
   "metadata": {},
   "outputs": [
    {
     "name": "stdout",
     "output_type": "stream",
     "text": [
      "[0.5108027  0.8103124  0.80282061 0.78550243 0.91238432]\n",
      "0.7643644934910622\n"
     ]
    }
   ],
   "source": [
    "svr1=SVR(C=16,kernel='rbf')\n",
    "svr2=SVR(C=17,kernel='poly')\n",
    "svr3=SVR(C=18,kernel='linear')\n",
    "svr4=SVR(C=19,kernel='rbf')\n",
    "svr5=SVR(C=20,kernel='rbf')\n",
    "svr1_adb=AdaBoostRegressor(svr1,loss='linear',learning_rate=0.1, n_estimators=100)\n",
    "svr2_adb=AdaBoostRegressor(svr2,loss='linear',learning_rate=0.1, n_estimators=100)\n",
    "svr3_adb=AdaBoostRegressor(svr3,loss='linear',learning_rate=0.1, n_estimators=100)\n",
    "svr4_adb=AdaBoostRegressor(svr4,loss='linear',learning_rate=0.1, n_estimators=100)\n",
    "svr5_adb=AdaBoostRegressor(svr5,loss='linear',learning_rate=0.1, n_estimators=100)\n",
    "\n",
    "evr = VotingRegressor([('svr1_adb',svr1_adb),('svr2_adb',svr2_adb),('svr3_adb',svr3_adb),('svr4_adb',svr4_adb),('svr5_adb',svr5_adb)]) \n",
    "evr_s= cross_val_score(evr,x,y, cv=5);\n",
    "evr_results=np.average(evr_s);\n",
    "print(evr_s)\n",
    "print(evr_results)\n"
   ]
  },
  {
   "cell_type": "code",
   "execution_count": 49,
   "metadata": {},
   "outputs": [
    {
     "data": {
      "text/plain": [
       "0.7643644934910622"
      ]
     },
     "execution_count": 49,
     "metadata": {},
     "output_type": "execute_result"
    }
   ],
   "source": [
    "vot_scores_dict['SVR_Voting'] =evr_results\n",
    "evr_results"
   ]
  },
  {
   "cell_type": "code",
   "execution_count": 50,
   "metadata": {},
   "outputs": [
    {
     "data": {
      "image/png": "[encoded data removed]",
      "text/plain": [
       "<Figure size 1080x504 with 1 Axes>"
      ]
     },
     "metadata": {},
     "output_type": "display_data"
    }
   ],
   "source": [
    "with sns.color_palette('muted'):\n",
    "  algo_name = list(vot_scores_dict.keys())\n",
    "  scores = list(vot_scores_dict.values())\n",
    "  #sns.color_palette(\"Greens_d\", len(dataset))\n",
    "  # deep , light winter spring\n",
    "  sns.set(rc={'figure.figsize':(15,7)})\n",
    "  plt.xlabel(\"Models\",fontsize=20)\n",
    "  plt.ylabel(\"Accuracy score\",fontsize=20)\n",
    "  plt.title(\"Voting Models\",fontsize=20)\n",
    "  plt.tick_params(labelsize=15) \n",
    "  s=sns.barplot(x=algo_name,y=scores)\n",
    "  for idx, val in enumerate(scores):\n",
    "    s.text(idx,val, round(scores[idx]*100,2), color='black', ha=\"center\",fontsize=16)\n",
    "    \n",
    "  plt.show() "
   ]
  },
  {
   "cell_type": "code",
   "execution_count": null,
   "metadata": {},
   "outputs": [],
   "source": []
  },
  {
   "cell_type": "code",
   "execution_count": null,
   "metadata": {},
   "outputs": [],
   "source": [
    "# save the model to disk\n",
    "#fileName='FinalModel.sav'\n",
    "#pickle.dump(evc,open(fileName,'wb'))"
   ]
  },
  {
   "cell_type": "code",
   "execution_count": null,
   "metadata": {},
   "outputs": [],
   "source": [
    "# save the model to disk\n",
    "#fileName='FinalModel.pkl'\n",
    "#pickle.dump(evc,open(fileName,'wb'))"
   ]
  },
  {
   "cell_type": "code",
   "execution_count": null,
   "metadata": {},
   "outputs": [],
   "source": [
    "# load the model from disk\n",
    "#fileName='FinalModel.sav'\n",
    "#loaded_model=pickle.load(open(fileName,'rb'))"
   ]
  },
  {
   "cell_type": "code",
   "execution_count": null,
   "metadata": {},
   "outputs": [],
   "source": [
    "# load the model from disk\n",
    "#fileName='FinalModel.pkl'\n",
    "#loaded_model=pickle.load(open(fileName,'rb'))"
   ]
  }
 ],
 "metadata": {
  "kernelspec": {
   "display_name": "Python 3",
   "language": "python",
   "name": "python3"
  },
  "language_info": {
   "codemirror_mode": {
    "name": "ipython",
    "version": 3
   },
   "file_extension": ".py",
   "mimetype": "text/x-python",
   "name": "python",
   "nbconvert_exporter": "python",
   "pygments_lexer": "ipython3",
   "version": "3.8.3"
  }
 },
 "nbformat": 4,
 "nbformat_minor": 4
}
